{
 "cells": [
  {
   "cell_type": "code",
   "execution_count": null,
   "id": "2a00aa68",
   "metadata": {
    "vscode": {
     "languageId": "plaintext"
    }
   },
   "outputs": [],
   "source": [
    "import pandas as pd\n",
    "import requests \n",
    "import io #File-related I/O operations i.e. file read/write"
   ]
  },
  {
   "cell_type": "code",
   "execution_count": null,
   "id": "701290ab",
   "metadata": {
    "vscode": {
     "languageId": "plaintext"
    }
   },
   "outputs": [],
   "source": [
    "url = \"https://storage.googleapis.com/uber-data-engineering-project/uber_data.csv\"\n",
    "response = requests.get(url)\n",
    "df = pd.read_csv(io.StringIO(response.text), sep=',')"
   ]
  },
  {
   "cell_type": "code",
   "execution_count": null,
   "id": "10e11f86",
   "metadata": {
    "vscode": {
     "languageId": "plaintext"
    }
   },
   "outputs": [],
   "source": [
    "df.head()"
   ]
  },
  {
   "cell_type": "code",
   "execution_count": null,
   "id": "17273d03",
   "metadata": {
    "vscode": {
     "languageId": "plaintext"
    }
   },
   "outputs": [],
   "source": [
    "df.info()"
   ]
  },
  {
   "cell_type": "code",
   "execution_count": null,
   "id": "e978248f",
   "metadata": {
    "vscode": {
     "languageId": "plaintext"
    }
   },
   "outputs": [],
   "source": [
    "df['tpep_pickup_datetime'] = pd.to_datetime(df['tpep_pickup_datetime'])\n",
    "df['tpep_dropoff_datetime'] = pd.to_datetime(df['tpep_dropoff_datetime'])"
   ]
  },
  {
   "cell_type": "code",
   "execution_count": null,
   "id": "3e391de4",
   "metadata": {
    "vscode": {
     "languageId": "plaintext"
    }
   },
   "outputs": [],
   "source": [
    "df[['tpep_pickup_datetime', 'tpep_dropoff_datetime']].info()"
   ]
  },
  {
   "cell_type": "code",
   "execution_count": null,
   "id": "325e70c4",
   "metadata": {
    "vscode": {
     "languageId": "plaintext"
    }
   },
   "outputs": [],
   "source": [
    "# Drop duplicate and reset index\n",
    "df = df.drop_duplicates().reset_index(drop=True)\n",
    "\n",
    "# Assign index to new column\n",
    "df['trip_id'] = df.index"
   ]
  },
  {
   "cell_type": "code",
   "execution_count": null,
   "id": "d8c8f458",
   "metadata": {
    "vscode": {
     "languageId": "plaintext"
    }
   },
   "outputs": [],
   "source": [
    "\n",
    "df.head()"
   ]
  },
  {
   "cell_type": "code",
   "execution_count": null,
   "id": "1081a93f",
   "metadata": {
    "vscode": {
     "languageId": "plaintext"
    }
   },
   "outputs": [],
   "source": [
    "df.info()"
   ]
  },
  {
   "cell_type": "code",
   "execution_count": null,
   "id": "71da959a",
   "metadata": {
    "vscode": {
     "languageId": "plaintext"
    }
   },
   "outputs": [],
   "source": [
    "# Create new columns for datetime elements\n",
    "datetime_dim = df[['tpep_pickup_datetime', 'tpep_dropoff_datetime']].reset_index(drop=True)\n",
    "datetime_dim['pickup_hour'] = datetime_dim['tpep_pickup_datetime'].dt.hour\n",
    "datetime_dim['pickup_day'] = datetime_dim['tpep_pickup_datetime'].dt.day\n",
    "datetime_dim['pickup_weekday'] = datetime_dim['tpep_pickup_datetime'].dt.weekday\n",
    "datetime_dim['pickup_month'] = datetime_dim['tpep_pickup_datetime'].dt.month\n",
    "datetime_dim['pickup_year'] = datetime_dim['tpep_pickup_datetime'].dt.year\n",
    "datetime_dim['dropoff_hour'] = datetime_dim['tpep_dropoff_datetime'].dt.hour\n",
    "datetime_dim['dropoff_day'] = datetime_dim['tpep_dropoff_datetime'].dt.day\n",
    "datetime_dim['dropoff_weekday'] = datetime_dim['tpep_dropoff_datetime'].dt.weekday\n",
    "datetime_dim['dropoff_month'] = datetime_dim['tpep_dropoff_datetime'].dt.month\n",
    "datetime_dim['dropoff_year'] = datetime_dim['tpep_dropoff_datetime'].dt.year\n",
    "\n",
    "# Create new column 'datetime_id' as index \n",
    "datetime_dim['datetime_id'] = datetime_dim.index\n",
    "\n",
    "# Shift 'datetime_id' column to first position\n",
    "first_column = datetime_dim.pop('datetime_id')\n",
    "datetime_dim.insert(loc=0, column='datetime_id', value=first_column)"
   ]
  },
  {
   "cell_type": "code",
   "execution_count": null,
   "id": "81479232",
   "metadata": {
    "vscode": {
     "languageId": "plaintext"
    }
   },
   "outputs": [],
   "source": [
    "datetime_dim.head()"
   ]
  },
  {
   "cell_type": "code",
   "execution_count": null,
   "id": "ca1a96dc",
   "metadata": {
    "vscode": {
     "languageId": "plaintext"
    }
   },
   "outputs": [],
   "source": [
    "# Create 'passenger_count_dim' table and reset index\n",
    "passenger_count_dim = df[['passenger_count']].reset_index(drop=True)\n",
    "\n",
    "# Create new column 'passenger_count_id' as index \n",
    "passenger_count_dim['passenger_count_id'] = passenger_count_dim.index\n",
    "\n",
    "# Rearrange columns by switching 'passenger_count_id' to first column\n",
    "passenger_count_dim = passenger_count_dim[['passenger_count_id', 'passenger_count']]\n",
    "\n",
    "passenger_count_dim.head()"
   ]
  },
  {
   "cell_type": "code",
   "execution_count": null,
   "id": "74770083",
   "metadata": {
    "vscode": {
     "languageId": "plaintext"
    }
   },
   "outputs": [],
   "source": [
    "# Create 'trip_distance_dim' table and reset index\n",
    "trip_distance_dim = df[['trip_distance']].reset_index(drop=True)\n",
    "\n",
    "# Create new column 'trip_distance_id' as index \n",
    "trip_distance_dim['trip_distance_id'] = trip_distance_dim.index\n",
    "\n",
    "# Rearrange columns by switching 'passenger_count_id' to first column\n",
    "trip_distance_dim = trip_distance_dim[['trip_distance_id', 'trip_distance']]\n",
    "\n",
    "trip_distance_dim.head()"
   ]
  },
  {
   "cell_type": "code",
   "execution_count": null,
   "id": "c82fe479",
   "metadata": {
    "vscode": {
     "languageId": "plaintext"
    }
   },
   "outputs": [],
   "source": [
    "# Create 'pickup_location_dim' table and reset index\n",
    "pickup_location_dim = df[['pickup_longitude', 'pickup_latitude']].reset_index(drop=True)\n",
    "\n",
    "# Create new column 'pickup_location_id' as index \n",
    "pickup_location_dim['pickup_location_id'] = pickup_location_dim.index\n",
    "\n",
    "# Shift 'pickup_location_id' column to first position\n",
    "first_column = pickup_location_dim.pop('pickup_location_id')\n",
    "pickup_location_dim.insert(loc=0, column='pickup_location_id', value=first_column)"
   ]
  },
  {
   "cell_type": "code",
   "execution_count": null,
   "id": "614b63df",
   "metadata": {
    "vscode": {
     "languageId": "plaintext"
    }
   },
   "outputs": [],
   "source": [
    "# Create 'dropoff_location_dim' table and reset index\n",
    "dropoff_location_dim = df[['dropoff_longitude', 'dropoff_latitude']].reset_index(drop=True)\n",
    "\n",
    "# Create new column 'dropoff_location id' as index \n",
    "dropoff_location_dim['dropoff_location_id'] = dropoff_location_dim.index\n",
    "\n",
    "# Rearrange columns by switching 'dropoff_location_id' to first column\n",
    "dropoff_location_dim = dropoff_location_dim[['dropoff_location_id', 'dropoff_longitude', 'dropoff_latitude']]\n",
    "\n",
    "dropoff_location_dim.head()"
   ]
  },
  {
   "cell_type": "code",
   "execution_count": null,
   "id": "320327f0",
   "metadata": {
    "vscode": {
     "languageId": "plaintext"
    }
   },
   "outputs": [],
   "source": [
    "# Create 'rate_code_type' dictionary\n",
    "rate_code_type = {\n",
    "    1:'Standard rate',\n",
    "    2:'JFK',\n",
    "    3:'Newark',\n",
    "    4:'Nassau or Westchester',\n",
    "    5:'Negotiated fare',\n",
    "    6:'Group ride'\n",
    "}\n",
    "\n",
    "# Create 'rate_code_dim' table and reset index\n",
    "rate_code_dim = df[['RatecodeID']].reset_index(drop=True)\n",
    "\n",
    "# Create new column 'dropoff_location id' as index \n",
    "rate_code_dim['rate_code_id'] = rate_code_dim.index\n",
    "\n",
    "# Map 'rate_code_type' values to keys in 'RatecodeID'\n",
    "rate_code_dim['rate_code_name'] = rate_code_dim['RatecodeID'].map(rate_code_type)\n",
    "\n",
    "# Rearrange columns by switching 'rate_code_id' to first column\n",
    "rate_code_dim = rate_code_dim[['rate_code_id', 'RatecodeID', 'rate_code_name']]\n",
    "\n",
    "rate_code_dim.head()"
   ]
  },
  {
   "cell_type": "code",
   "execution_count": null,
   "id": "10393c5f",
   "metadata": {
    "vscode": {
     "languageId": "plaintext"
    }
   },
   "outputs": [],
   "source": [
    "# Create 'payment_type_name' dictionary\n",
    "payment_type_name = {\n",
    "    1:'Credit card',\n",
    "    2:'Cash',\n",
    "    3:'No charge',\n",
    "    4:'Dispute',\n",
    "    5:'Unknown',\n",
    "    6:'Voided trip'\n",
    "}\n",
    "\n",
    "# Create 'payment_type_dim' table and reset index\n",
    "payment_type_dim = df[['payment_type']].reset_index(drop=True)\n",
    "\n",
    "# Create new column 'payment_type_id id' as index \n",
    "payment_type_dim['payment_type_id'] = payment_type_dim.index\n",
    "\n",
    "# Map 'payment_type_name' values to keys in 'payment_type'\n",
    "payment_type_dim['payment_type_name'] = payment_type_dim['payment_type'].map(payment_type_name)\n",
    "\n",
    "# Rearrange columns by switching 'dropoff_location_id' to first column\n",
    "payment_type_dim = payment_type_dim[['payment_type_id', 'payment_type', 'payment_type_name']]\n",
    "\n",
    "payment_type_dim.head()"
   ]
  },
  {
   "cell_type": "code",
   "execution_count": null,
   "id": "263d0796",
   "metadata": {
    "vscode": {
     "languageId": "plaintext"
    }
   },
   "outputs": [],
   "source": [
    "fact_table = df.merge(passenger_count_dim, left_on='trip_id', right_on='passenger_count_id') \\\n",
    "                .merge(trip_distance_dim, left_on='trip_id', right_on='trip_distance_id') \\\n",
    "                .merge(rate_code_dim, left_on='trip_id', right_on='rate_code_id') \\\n",
    "                .merge(payment_type_dim, left_on='trip_id', right_on='payment_type_id') \\\n",
    "                .merge(datetime_dim, left_on='trip_id', right_on='datetime_id') \\\n",
    "                .merge(pickup_location_dim, left_on='trip_id', right_on='pickup_location_id') \\\n",
    "                .merge(dropoff_location_dim, left_on='trip_id', right_on='dropoff_location_id') \\\n",
    "                [['trip_id', 'VendorID', 'datetime_id', 'passenger_count_id', 'trip_distance_id', 'pickup_location_id', \n",
    "                 'dropoff_location_id', 'rate_code_id', 'payment_type_id', 'fare_amount', 'extra',\n",
    "                 'mta_tax', 'tip_amount', 'tolls_amount', 'improvement_surcharge', 'total_amount']]\n",
    "\n",
    "fact_table.head()"
   ]
  }
 ],
 "metadata": {
  "language_info": {
   "name": "python"
  }
 },
 "nbformat": 4,
 "nbformat_minor": 5
}
